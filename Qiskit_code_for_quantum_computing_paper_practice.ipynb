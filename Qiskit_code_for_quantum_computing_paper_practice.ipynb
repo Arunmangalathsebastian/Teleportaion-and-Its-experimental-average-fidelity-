{
  "cells": [
    {
      "cell_type": "markdown",
      "metadata": {
        "id": "view-in-github",
        "colab_type": "text"
      },
      "source": [
        "<a href=\"https://colab.research.google.com/github/Arunmangalathsebastian/Teleportaion-and-Its-experimental-average-fidelity-/blob/main/Qiskit_code_for_quantum_computing_paper_practice.ipynb\" target=\"_parent\"><img src=\"https://colab.research.google.com/assets/colab-badge.svg\" alt=\"Open In Colab\"/></a>"
      ]
    },
    {
      "cell_type": "code",
      "execution_count": null,
      "metadata": {
        "id": "6s9OOUd8tnn6"
      },
      "outputs": [],
      "source": [
        "pip install qiskit"
      ]
    },
    {
      "cell_type": "markdown",
      "metadata": {
        "id": "BI11UFHrbEDb"
      },
      "source": [
        "# Importing modules"
      ]
    },
    {
      "cell_type": "code",
      "execution_count": null,
      "metadata": {
        "id": "OpD31_NJx44t"
      },
      "outputs": [],
      "source": [
        "import numpy as np\n",
        "import matplotlib.pyplot as plt\n",
        "\n",
        "from qiskit import *\n",
        "from qiskit import QuantumCircuit\n",
        "#from qiskit.providers.aer import QasmSimulator\n",
        "from qiskit.visualization import plot_histogram\n",
        "from qiskit import QuantumCircuit, transpile\n",
        "from qiskit.providers.basicaer import QasmSimulatorPy\n",
        "#from qiskit.providers.aer.extensions.snapshot_statevector import *\n",
        "import qiskit.quantum_info as qi\n",
        "\n",
        "\n",
        "from qiskit import QuantumCircuit, ClassicalRegister, QuantumRegister\n",
        "from qiskit import BasicAer\n",
        "from qiskit.compiler import transpile\n",
        "from qiskit.quantum_info.operators import Operator, Pauli\n",
        "from qiskit.quantum_info import process_fidelity\n",
        "\n",
        "from qiskit.extensions import RXGate, XGate, CXGate"
      ]
    },
    {
      "cell_type": "markdown",
      "metadata": {
        "id": "oMz63_roClJl"
      },
      "source": [
        "# **qiskit test**"
      ]
    },
    {
      "cell_type": "code",
      "execution_count": null,
      "metadata": {
        "id": "qBzG2lwS9XDd"
      },
      "outputs": [],
      "source": [
        "simulator = QasmSimulator() # creating an obeject called simulator"
      ]
    },
    {
      "cell_type": "code",
      "execution_count": null,
      "metadata": {
        "colab": {
          "base_uri": "https://localhost:8080/",
          "height": 125
        },
        "id": "Kq0yp3SRx1uj",
        "outputId": "631f9626-dc42-4f75-df41-d84f7a76d63e"
      },
      "outputs": [
        {
          "data": {
            "text/html": [
              "<pre style=\"word-wrap: normal;white-space: pre;background: #fff0;line-height: 1.1;font-family: &quot;Courier New&quot;,Courier,monospace\">     \n",
              "q_0: \n",
              "     \n",
              "q_1: \n",
              "     \n",
              "c: 2/\n",
              "     </pre>"
            ],
            "text/plain": [
              "     \n",
              "q_0: \n",
              "     \n",
              "q_1: \n",
              "     \n",
              "c: 2/\n",
              "     "
            ]
          },
          "execution_count": 30,
          "metadata": {},
          "output_type": "execute_result"
        }
      ],
      "source": [
        "circuit = QuantumCircuit(2, 2)\n",
        "circuit.draw()"
      ]
    },
    {
      "cell_type": "code",
      "execution_count": null,
      "metadata": {
        "colab": {
          "base_uri": "https://localhost:8080/",
          "height": 92
        },
        "id": "Ax0FMRU20D3l",
        "outputId": "71b24328-b458-47a2-a544-a41c36641842"
      },
      "outputs": [
        {
          "name": "stdout",
          "output_type": "stream",
          "text": [
            "Statevector([0.70710678+0.j, 0.        +0.j, 0.        +0.j,\n",
            "             0.70710678+0.j],\n",
            "            dims=(2, 2))\n"
          ]
        },
        {
          "data": {
            "text/latex": "$$\\frac{\\sqrt{2}}{2} |00\\rangle+\\frac{\\sqrt{2}}{2} |11\\rangle$$",
            "text/plain": [
              "<IPython.core.display.Latex object>"
            ]
          },
          "execution_count": 31,
          "metadata": {},
          "output_type": "execute_result"
        }
      ],
      "source": [
        "circuit.h(0)\n",
        "circuit.cx(0,1) # creating bell state\n",
        "statevector = qi.Statevector.from_instruction(circuit)\n",
        "print(statevector)\n",
        "statevector.draw('latex')"
      ]
    },
    {
      "cell_type": "code",
      "execution_count": null,
      "metadata": {
        "colab": {
          "base_uri": "https://localhost:8080/",
          "height": 125
        },
        "id": "St1JsObD7NIx",
        "outputId": "2ae76952-7985-4009-89cb-781fef02f384"
      },
      "outputs": [
        {
          "data": {
            "text/html": [
              "<pre style=\"word-wrap: normal;white-space: pre;background: #fff0;line-height: 1.1;font-family: &quot;Courier New&quot;,Courier,monospace\">     ┌───┐     ┌─┐   \n",
              "q_0: ┤ H ├──■──┤M├───\n",
              "     └───┘┌─┴─┐└╥┘┌─┐\n",
              "q_1: ─────┤ X ├─╫─┤M├\n",
              "          └───┘ ║ └╥┘\n",
              "c: 2/═══════════╩══╩═\n",
              "                0  1 </pre>"
            ],
            "text/plain": [
              "     ┌───┐     ┌─┐   \n",
              "q_0: ┤ H ├──■──┤M├───\n",
              "     └───┘┌─┴─┐└╥┘┌─┐\n",
              "q_1: ─────┤ X ├─╫─┤M├\n",
              "          └───┘ ║ └╥┘\n",
              "c: 2/═══════════╩══╩═\n",
              "                0  1 "
            ]
          },
          "execution_count": 17,
          "metadata": {},
          "output_type": "execute_result"
        }
      ],
      "source": [
        " circuit.measure([0,1], [0,1])\n",
        " circuit.draw()"
      ]
    },
    {
      "cell_type": "code",
      "execution_count": null,
      "metadata": {
        "colab": {
          "base_uri": "https://localhost:8080/"
        },
        "id": "GaT_IVN49KEj",
        "outputId": "95055203-e71c-43da-c5c3-7d32d49d54df"
      },
      "outputs": [
        {
          "name": "stdout",
          "output_type": "stream",
          "text": [
            "{'11': 484, '00': 516}\n"
          ]
        }
      ],
      "source": [
        "compiled_circuit = transpile(circuit, simulator)\n",
        "simulation = simulator.run(compiled_circuit, shots=1000)\n",
        "result = simulation.result()\n",
        "counts = result.get_counts(compiled_circuit)\n",
        "print(counts)"
      ]
    },
    {
      "cell_type": "code",
      "execution_count": null,
      "metadata": {
        "colab": {
          "base_uri": "https://localhost:8080/"
        },
        "id": "XF2ipjLREgxL",
        "outputId": "f178256d-207e-4d8d-800d-cc7acdfc0599"
      },
      "outputs": [
        {
          "name": "stdout",
          "output_type": "stream",
          "text": [
            "Total count for 00 and 11 are: {'11': 484, '00': 516}\n"
          ]
        }
      ],
      "source": [
        "print(\"Total count for 00 and 11 are:\",counts)"
      ]
    },
    {
      "cell_type": "code",
      "execution_count": null,
      "metadata": {
        "colab": {
          "base_uri": "https://localhost:8080/",
          "height": 331
        },
        "id": "3kCpWwm-Ht1O",
        "outputId": "3c0223ed-f808-4bbc-81d1-fd9662ce4e8e"
      },
      "outputs": [
        {
          "data": {
            "image/png": "[encoded data removed]",
            "text/plain": [
              "<Figure size 504x360 with 1 Axes>"
            ]
          },
          "execution_count": 20,
          "metadata": {},
          "output_type": "execute_result"
        }
      ],
      "source": [
        "plot_histogram(counts)"
      ]
    },
    {
      "cell_type": "code",
      "execution_count": null,
      "metadata": {
        "id": "NGyQsxKAH8En"
      },
      "outputs": [],
      "source": []
    },
    {
      "cell_type": "markdown",
      "metadata": {
        "id": "PmJvStYrZCrd"
      },
      "source": [
        "# **Quantum circuit basics**"
      ]
    },
    {
      "cell_type": "code",
      "execution_count": null,
      "metadata": {
        "id": "b-lVMkQMZCCb"
      },
      "outputs": [],
      "source": [
        "import numpy as np\n",
        "from qiskit import QuantumCircuit"
      ]
    },
    {
      "cell_type": "code",
      "execution_count": null,
      "metadata": {
        "colab": {
          "base_uri": "https://localhost:8080/",
          "height": 162
        },
        "id": "rdRt8Ae4Zs1v",
        "outputId": "a728803d-64b9-4ce5-a347-2681bab4278d"
      },
      "outputs": [
        {
          "name": "stdout",
          "output_type": "stream",
          "text": [
            "     \n",
            "q_0: \n",
            "     \n",
            "q_1: \n",
            "     \n",
            "q_2: \n",
            "     \n"
          ]
        },
        {
          "data": {
            "text/latex": "$$\\frac{\\sqrt{2}}{2} |100\\rangle- \\frac{\\sqrt{2}}{2} |101\\rangle$$",
            "text/plain": [
              "<IPython.core.display.Latex object>"
            ]
          },
          "execution_count": 6,
          "metadata": {},
          "output_type": "execute_result"
        }
      ],
      "source": [
        "# Create a Quantum Circuit acting on a quantum register of three qubits\n",
        "qcircuit = QuantumCircuit(3)\n",
        "print(qcircuit)\n",
        "statevector1 = qi.Statevector.from_instruction(qcircuit)\n",
        "statevector1.draw('latex')\n",
        "qcircuit.x(0)\n",
        "qcircuit.x(2)\n",
        "statevector2 = qi.Statevector.from_instruction(qcircuit)\n",
        "statevector2.draw('latex')\n",
        "qcircuit.h(0)\n",
        "qcircuit.cx(1,2)\n",
        "statevector3 = qi.Statevector.from_instruction(qcircuit)\n",
        "statevector3 = qi.Statevector.from_instruction(qcircuit)\n",
        "qcircuit.draw()\n",
        "statevector3.draw('latex')"
      ]
    },
    {
      "cell_type": "code",
      "execution_count": null,
      "metadata": {
        "id": "DIpz3L2AWH1t"
      },
      "outputs": [],
      "source": []
    },
    {
      "cell_type": "code",
      "execution_count": null,
      "metadata": {
        "colab": {
          "base_uri": "https://localhost:8080/",
          "height": 186
        },
        "id": "agW3boioWHgx",
        "outputId": "7ee02443-d1cf-4d8e-a671-dd59881677f9"
      },
      "outputs": [
        {
          "data": {
            "text/html": [
              "<pre style=\"word-wrap: normal;white-space: pre;background: #fff0;line-height: 1.1;font-family: &quot;Courier New&quot;,Courier,monospace\">     \n",
              "q_0: \n",
              "     \n",
              "q_1: \n",
              "     \n",
              "q_2: \n",
              "     \n",
              "q_3: \n",
              "     \n",
              "c: 4/\n",
              "     </pre>"
            ],
            "text/plain": [
              "     \n",
              "q_0: \n",
              "     \n",
              "q_1: \n",
              "     \n",
              "q_2: \n",
              "     \n",
              "q_3: \n",
              "     \n",
              "c: 4/\n",
              "     "
            ]
          },
          "execution_count": 16,
          "metadata": {},
          "output_type": "execute_result"
        }
      ],
      "source": [
        "circuit = QuantumCircuit(4, 4)\n",
        "circuit.draw()"
      ]
    },
    {
      "cell_type": "code",
      "execution_count": null,
      "metadata": {
        "colab": {
          "base_uri": "https://localhost:8080/"
        },
        "id": "9l_t3HYNWQr3",
        "outputId": "bdad0900-b135-4bc0-f55e-6acd67ac51d4"
      },
      "outputs": [
        {
          "name": "stdout",
          "output_type": "stream",
          "text": [
            "Statevector([ 5.00000000e-01+0.j,  4.76210391e-18+0.j,  4.76210391e-18+0.j,\n",
            "              5.00000000e-01+0.j,  1.18079001e-17+0.j,  6.31580767e-35+0.j,\n",
            "             -6.31580767e-35+0.j, -1.18079001e-17+0.j,  1.18079001e-17+0.j,\n",
            "              6.31580767e-35+0.j,  6.31580767e-35+0.j,  1.18079001e-17+0.j,\n",
            "              5.00000000e-01+0.j,  4.76210391e-18+0.j, -4.76210391e-18+0.j,\n",
            "             -5.00000000e-01+0.j],\n",
            "            dims=(2, 2, 2, 2))\n"
          ]
        }
      ],
      "source": [
        "circuit.h(0)\n",
        "statevector = qi.Statevector.from_instruction(circuit)\n",
        "\n",
        "circuit.h(1)\n",
        "circuit.h(2)\n",
        "circuit.h(3)\n",
        "circuit.cz(0,1)\n",
        "circuit.cz(1,2)\n",
        "circuit.cz(2,3)\n",
        "circuit.h(0)\n",
        "circuit.h(3)\n",
        "statevector = qi.Statevector.from_instruction(circuit)\n",
        "circuit.draw()\n",
        "statevector.draw('latex')\n",
        "print(statevector)"
      ]
    },
    {
      "cell_type": "code",
      "execution_count": null,
      "metadata": {
        "colab": {
          "base_uri": "https://localhost:8080/",
          "height": 186
        },
        "id": "0ZYUa-0WYYu7",
        "outputId": "c4129737-9b77-433a-e741-9934505d8b72"
      },
      "outputs": [
        {
          "data": {
            "text/html": [
              "<pre style=\"word-wrap: normal;white-space: pre;background: #fff0;line-height: 1.1;font-family: &quot;Courier New&quot;,Courier,monospace\">     ┌───┐   ┌───┐        \n",
              "q_0: ┤ H ├─■─┤ H ├────────\n",
              "     ├───┤ │ └───┘        \n",
              "q_1: ┤ H ├─■───■──────────\n",
              "     ├───┤     │          \n",
              "q_2: ┤ H ├─────■───■──────\n",
              "     ├───┤         │ ┌───┐\n",
              "q_3: ┤ H ├─────────■─┤ H ├\n",
              "     └───┘           └───┘\n",
              "c: 4/═════════════════════\n",
              "                          </pre>"
            ],
            "text/plain": [
              "     ┌───┐   ┌───┐        \n",
              "q_0: ┤ H ├─■─┤ H ├────────\n",
              "     ├───┤ │ └───┘        \n",
              "q_1: ┤ H ├─■───■──────────\n",
              "     ├───┤     │          \n",
              "q_2: ┤ H ├─────■───■──────\n",
              "     ├───┤         │ ┌───┐\n",
              "q_3: ┤ H ├─────────■─┤ H ├\n",
              "     └───┘           └───┘\n",
              "c: 4/═════════════════════\n",
              "                          "
            ]
          },
          "execution_count": 8,
          "metadata": {},
          "output_type": "execute_result"
        }
      ],
      "source": [
        "circuit.draw()"
      ]
    },
    {
      "cell_type": "code",
      "execution_count": null,
      "metadata": {
        "id": "p5o5ov3y5DW0"
      },
      "outputs": [],
      "source": []
    },
    {
      "cell_type": "markdown",
      "metadata": {
        "id": "Emzw74Jq5s-S"
      },
      "source": [
        "# **Super dense coding of 2 bit**"
      ]
    },
    {
      "cell_type": "code",
      "execution_count": null,
      "metadata": {
        "colab": {
          "base_uri": "https://localhost:8080/",
          "height": 94
        },
        "id": "xpKXCOBi5DOj",
        "outputId": "ed0589b9-5b2b-420c-cab5-314dee8862d6"
      },
      "outputs": [
        {
          "data": {
            "text/html": [
              "<pre style=\"word-wrap: normal;white-space: pre;background: #fff0;line-height: 1.1;font-family: &quot;Courier New&quot;,Courier,monospace\">     \n",
              "q_0: \n",
              "     \n",
              "q_1: \n",
              "     </pre>"
            ],
            "text/plain": [
              "     \n",
              "q_0: \n",
              "     \n",
              "q_1: \n",
              "     "
            ]
          },
          "execution_count": 313,
          "metadata": {},
          "output_type": "execute_result"
        }
      ],
      "source": [
        "from qiskit import QuantumCircuit\n",
        "from qiskit import IBMQ, Aer, transpile, assemble\n",
        "from qiskit.visualization import plot_histogram\n",
        "\n",
        "\n",
        "circuit = QuantumCircuit(2)\n",
        "circuit.draw()"
      ]
    },
    {
      "cell_type": "code",
      "execution_count": null,
      "metadata": {
        "colab": {
          "base_uri": "https://localhost:8080/",
          "height": 94
        },
        "id": "ETDiND436I-d",
        "outputId": "056a71bc-4b9f-4a13-baf8-d89c486a1039"
      },
      "outputs": [
        {
          "data": {
            "text/html": [
              "<pre style=\"word-wrap: normal;white-space: pre;background: #fff0;line-height: 1.1;font-family: &quot;Courier New&quot;,Courier,monospace\">     ┌───┐     \n",
              "q_0: ┤ H ├──■──\n",
              "     └───┘┌─┴─┐\n",
              "q_1: ─────┤ X ├\n",
              "          └───┘</pre>"
            ],
            "text/plain": [
              "     ┌───┐     \n",
              "q_0: ┤ H ├──■──\n",
              "     └───┘┌─┴─┐\n",
              "q_1: ─────┤ X ├\n",
              "          └───┘"
            ]
          },
          "execution_count": 314,
          "metadata": {},
          "output_type": "execute_result"
        }
      ],
      "source": [
        "circuit.h(0)\n",
        "circuit.cx(0,1)\n",
        "circuit.draw()"
      ]
    },
    {
      "cell_type": "code",
      "execution_count": null,
      "metadata": {
        "colab": {
          "base_uri": "https://localhost:8080/",
          "height": 94
        },
        "id": "O6Q9MMyk6esh",
        "outputId": "6d96f284-1709-4ee5-ca42-03d7cfe37c94"
      },
      "outputs": [
        {
          "data": {
            "text/html": [
              "<pre style=\"word-wrap: normal;white-space: pre;background: #fff0;line-height: 1.1;font-family: &quot;Courier New&quot;,Courier,monospace\">     ┌───┐     ┌───┐┌───┐\n",
              "q_0: ┤ H ├──■──┤ Z ├┤ X ├\n",
              "     └───┘┌─┴─┐└───┘└───┘\n",
              "q_1: ─────┤ X ├──────────\n",
              "          └───┘          </pre>"
            ],
            "text/plain": [
              "     ┌───┐     ┌───┐┌───┐\n",
              "q_0: ┤ H ├──■──┤ Z ├┤ X ├\n",
              "     └───┘┌─┴─┐└───┘└───┘\n",
              "q_1: ─────┤ X ├──────────\n",
              "          └───┘          "
            ]
          },
          "execution_count": 315,
          "metadata": {},
          "output_type": "execute_result"
        }
      ],
      "source": [
        "#encoding\n",
        "circuit.z(0)\n",
        "circuit.x(0) # 10\n",
        "circuit.draw()"
      ]
    },
    {
      "cell_type": "code",
      "execution_count": null,
      "metadata": {
        "colab": {
          "base_uri": "https://localhost:8080/",
          "height": 94
        },
        "id": "WYAWYytf6sl2",
        "outputId": "604f7cd2-848e-4d24-f317-2dcb38e17af3"
      },
      "outputs": [
        {
          "data": {
            "text/html": [
              "<pre style=\"word-wrap: normal;white-space: pre;background: #fff0;line-height: 1.1;font-family: &quot;Courier New&quot;,Courier,monospace\">     ┌───┐     ┌───┐┌───┐     ┌───┐\n",
              "q_0: ┤ H ├──■──┤ Z ├┤ X ├──■──┤ H ├\n",
              "     └───┘┌─┴─┐└───┘└───┘┌─┴─┐└───┘\n",
              "q_1: ─────┤ X ├──────────┤ X ├─────\n",
              "          └───┘          └───┘     </pre>"
            ],
            "text/plain": [
              "     ┌───┐     ┌───┐┌───┐     ┌───┐\n",
              "q_0: ┤ H ├──■──┤ Z ├┤ X ├──■──┤ H ├\n",
              "     └───┘┌─┴─┐└───┘└───┘┌─┴─┐└───┘\n",
              "q_1: ─────┤ X ├──────────┤ X ├─────\n",
              "          └───┘          └───┘     "
            ]
          },
          "execution_count": 316,
          "metadata": {},
          "output_type": "execute_result"
        }
      ],
      "source": [
        "#decoding\n",
        "circuit.cx(0,1)\n",
        "circuit.h(0)\n",
        "circuit.draw()"
      ]
    },
    {
      "cell_type": "code",
      "execution_count": null,
      "metadata": {
        "id": "u_prfUO6_YTR"
      },
      "outputs": [],
      "source": [
        "circuit.measure_all()"
      ]
    },
    {
      "cell_type": "code",
      "execution_count": null,
      "metadata": {
        "colab": {
          "base_uri": "https://localhost:8080/",
          "height": 348
        },
        "id": "yukZMdRH9Nyx",
        "outputId": "98fb0879-510b-41e4-cfbb-ddb6bff117fc"
      },
      "outputs": [
        {
          "name": "stdout",
          "output_type": "stream",
          "text": [
            "{'11': 1024}\n"
          ]
        },
        {
          "data": {
            "image/png": "[encoded data removed]",
            "text/plain": [
              "<Figure size 504x360 with 1 Axes>"
            ]
          },
          "execution_count": 318,
          "metadata": {},
          "output_type": "execute_result"
        }
      ],
      "source": [
        "aer_sim = Aer.get_backend('aer_simulator')\n",
        "qobj = assemble(circuit)\n",
        "result = aer_sim.run(qobj).result()\n",
        "counts = result.get_counts(circuit)\n",
        "print(counts)\n",
        "plot_histogram(counts)"
      ]
    },
    {
      "cell_type": "code",
      "execution_count": null,
      "metadata": {
        "id": "HsxI8yzyBXp4"
      },
      "outputs": [],
      "source": [
        "def create_bell_pair():\n",
        "    \"\"\"\n",
        "    Returns:\n",
        "        QuantumCircuit: Circuit that produces a Bell pair\n",
        "    \"\"\"\n",
        "    qc = QuantumCircuit(2)\n",
        "    qc.h(1)\n",
        "    qc.cx(1, 0)\n",
        "    return qc\n",
        ""
      ]
    },
    {
      "cell_type": "code",
      "execution_count": null,
      "metadata": {
        "id": "bkfzEUa8Bbw6"
      },
      "outputs": [],
      "source": [
        "def encode_message(qc, qubit, msg):\n",
        "    \"\"\"Encodes a two-bit message on qc using the superdense coding protocol\n",
        "    Args:\n",
        "        qc (QuantumCircuit): Circuit to encode message on\n",
        "        qubit (int): Which qubit to add the gate to\n",
        "        msg (str): Two-bit message to send\n",
        "    Returns:\n",
        "        QuantumCircuit: Circuit that, when decoded, will produce msg\n",
        "    Raises:\n",
        "        ValueError if msg is wrong length or contains invalid characters\n",
        "    \"\"\"\n",
        "    if len(msg) != 2 or not set(msg).issubset({\"0\",\"1\"}):\n",
        "        raise ValueError(f\"message '{msg}' is invalid\")\n",
        "    if msg[1] == \"1\":\n",
        "        qc.x(qubit)\n",
        "    if msg[0] == \"1\":\n",
        "        qc.z(qubit)\n",
        "    return qc"
      ]
    },
    {
      "cell_type": "code",
      "execution_count": null,
      "metadata": {
        "id": "wHmwfRd4BfH_"
      },
      "outputs": [],
      "source": [
        "def decode_message(qc):\n",
        "    qc.cx(1, 0)\n",
        "    qc.h(1)\n",
        "    return qc"
      ]
    },
    {
      "cell_type": "code",
      "execution_count": null,
      "metadata": {
        "colab": {
          "base_uri": "https://localhost:8080/",
          "height": 125
        },
        "id": "DZDhOvJHBhl2",
        "outputId": "7b037d60-944c-4755-9e8d-09db7b8763fd"
      },
      "outputs": [
        {
          "data": {
            "text/html": [
              "<pre style=\"word-wrap: normal;white-space: pre;background: #fff0;line-height: 1.1;font-family: &quot;Courier New&quot;,Courier,monospace\">             ┌───┐ ░ ┌───┐ ░ ┌───┐      ░ ┌─┐   \n",
              "   q_0: ─────┤ X ├─░─┤ Z ├─░─┤ X ├──────░─┤M├───\n",
              "        ┌───┐└─┬─┘ ░ └───┘ ░ └─┬─┘┌───┐ ░ └╥┘┌─┐\n",
              "   q_1: ┤ H ├──■───░───────░───■──┤ H ├─░──╫─┤M├\n",
              "        └───┘      ░       ░      └───┘ ░  ║ └╥┘\n",
              "meas: 2/═══════════════════════════════════╩══╩═\n",
              "                                           0  1 </pre>"
            ],
            "text/plain": [
              "             ┌───┐ ░ ┌───┐ ░ ┌───┐      ░ ┌─┐   \n",
              "   q_0: ─────┤ X ├─░─┤ Z ├─░─┤ X ├──────░─┤M├───\n",
              "        ┌───┐└─┬─┘ ░ └───┘ ░ └─┬─┘┌───┐ ░ └╥┘┌─┐\n",
              "   q_1: ┤ H ├──■───░───────░───■──┤ H ├─░──╫─┤M├\n",
              "        └───┘      ░       ░      └───┘ ░  ║ └╥┘\n",
              "meas: 2/═══════════════════════════════════╩══╩═\n",
              "                                           0  1 "
            ]
          },
          "execution_count": 322,
          "metadata": {},
          "output_type": "execute_result"
        }
      ],
      "source": [
        "# Charlie creates the entangled pair between Alice and Bob\n",
        "qc = create_bell_pair()\n",
        "\n",
        "# We'll add a barrier for visual separation\n",
        "qc.barrier()\n",
        "\n",
        "# At this point, qubit 0 goes to Alice and qubit 1 goes to Bob\n",
        "\n",
        "# Next, Alice encodes her message onto qubit 1. In this case,\n",
        "# we want to send the message '10'. You can try changing this\n",
        "# value and see how it affects the circuit\n",
        "message = '10'\n",
        "qc = encode_message(qc, 0, message)\n",
        "qc.barrier()\n",
        "# Alice then sends her qubit to Bob.\n",
        "statevector1 = qi.Statevector.from_instruction(qc)\n",
        "\n",
        "# After recieving qubit 0, Bob applies the recovery protocol:\n",
        "qc = decode_message(qc)\n",
        "statevector2 = qi.Statevector.from_instruction(qc)\n",
        "\n",
        "# Finally, Bob measures his qubits to read Alice's message\n",
        "qc.measure_all()\n",
        "\n",
        "# Draw our output\n",
        "qc.draw()"
      ]
    },
    {
      "cell_type": "code",
      "execution_count": null,
      "metadata": {
        "colab": {
          "base_uri": "https://localhost:8080/",
          "height": 40
        },
        "id": "Pz-6FPUcHTXh",
        "outputId": "3399cb47-3899-4ac8-c498-3859b4250199"
      },
      "outputs": [
        {
          "data": {
            "text/latex": "$$\\frac{\\sqrt{2}}{2} |00\\rangle- \\frac{\\sqrt{2}}{2} |11\\rangle$$",
            "text/plain": [
              "<IPython.core.display.Latex object>"
            ]
          },
          "execution_count": 323,
          "metadata": {},
          "output_type": "execute_result"
        }
      ],
      "source": [
        "statevector1.draw('latex')"
      ]
    },
    {
      "cell_type": "code",
      "execution_count": null,
      "metadata": {
        "colab": {
          "base_uri": "https://localhost:8080/",
          "height": 39
        },
        "id": "_hwOkWW1I5t9",
        "outputId": "aab5034c-b577-44c9-f1e2-5614599b9350"
      },
      "outputs": [
        {
          "data": {
            "text/latex": "$$None |00\\rangle |10\\rangle$$",
            "text/plain": [
              "<IPython.core.display.Latex object>"
            ]
          },
          "execution_count": 324,
          "metadata": {},
          "output_type": "execute_result"
        }
      ],
      "source": [
        "statevector2.draw('latex')"
      ]
    },
    {
      "cell_type": "code",
      "execution_count": null,
      "metadata": {
        "colab": {
          "base_uri": "https://localhost:8080/",
          "height": 348
        },
        "id": "bp1AcM0tBo_e",
        "outputId": "0516d004-260f-4ed3-dad0-edd3133fdcea"
      },
      "outputs": [
        {
          "name": "stdout",
          "output_type": "stream",
          "text": [
            "{'10': 1024}\n"
          ]
        },
        {
          "data": {
            "image/png": "[encoded data removed]",
            "text/plain": [
              "<Figure size 504x360 with 1 Axes>"
            ]
          },
          "execution_count": 325,
          "metadata": {},
          "output_type": "execute_result"
        }
      ],
      "source": [
        "aer_sim = Aer.get_backend('aer_simulator')\n",
        "qobj = assemble(qc)\n",
        "result = aer_sim.run(qobj).result()\n",
        "counts = result.get_counts(qc)\n",
        "print(counts)\n",
        "plot_histogram(counts)"
      ]
    },
    {
      "cell_type": "markdown",
      "metadata": {
        "id": "j6HJ1NYgLOzo"
      },
      "source": [
        "# Super dense coding of 3 bit\n"
      ]
    },
    {
      "cell_type": "code",
      "execution_count": null,
      "metadata": {
        "colab": {
          "base_uri": "https://localhost:8080/",
          "height": 125
        },
        "id": "hdUTrf-mLWSj",
        "outputId": "eae15c5f-380c-4f09-d540-36bb56c9d254"
      },
      "outputs": [
        {
          "data": {
            "text/html": [
              "<pre style=\"word-wrap: normal;white-space: pre;background: #fff0;line-height: 1.1;font-family: &quot;Courier New&quot;,Courier,monospace\">     \n",
              "q_0: \n",
              "     \n",
              "q_1: \n",
              "     \n",
              "q_2: \n",
              "     </pre>"
            ],
            "text/plain": [
              "     \n",
              "q_0: \n",
              "     \n",
              "q_1: \n",
              "     \n",
              "q_2: \n",
              "     "
            ]
          },
          "execution_count": 31,
          "metadata": {},
          "output_type": "execute_result"
        }
      ],
      "source": [
        "circuit = QuantumCircuit(3)\n",
        "circuit.draw()"
      ]
    },
    {
      "cell_type": "code",
      "execution_count": null,
      "metadata": {
        "colab": {
          "base_uri": "https://localhost:8080/",
          "height": 162
        },
        "id": "zf0KYDhiLmdf",
        "outputId": "64478b8b-8a86-495a-ec6e-ac31703f2eef"
      },
      "outputs": [
        {
          "name": "stdout",
          "output_type": "stream",
          "text": [
            "     ┌───┐          \n",
            "q_0: ┤ H ├──■───────\n",
            "     └───┘┌─┴─┐     \n",
            "q_1: ─────┤ X ├──■──\n",
            "          └───┘┌─┴─┐\n",
            "q_2: ──────────┤ X ├\n",
            "               └───┘\n"
          ]
        },
        {
          "data": {
            "text/latex": "$$\\frac{\\sqrt{2}}{2} |000\\rangle+\\frac{\\sqrt{2}}{2} |111\\rangle$$",
            "text/plain": [
              "<IPython.core.display.Latex object>"
            ]
          },
          "execution_count": 32,
          "metadata": {},
          "output_type": "execute_result"
        }
      ],
      "source": [
        "circuit.h(0)\n",
        "circuit.cx(0,1)\n",
        "circuit.cx(1,2)\n",
        "print(circuit.draw())\n",
        "statevector1 = qi.Statevector.from_instruction(circuit)\n",
        "statevector1.draw('latex')"
      ]
    },
    {
      "cell_type": "code",
      "execution_count": null,
      "metadata": {
        "colab": {
          "base_uri": "https://localhost:8080/",
          "height": 125
        },
        "id": "U8sNYdo-M8Sw",
        "outputId": "2871bb8f-a3c8-488f-c785-d761eb23bc2a"
      },
      "outputs": [
        {
          "data": {
            "text/html": [
              "<pre style=\"word-wrap: normal;white-space: pre;background: #fff0;line-height: 1.1;font-family: &quot;Courier New&quot;,Courier,monospace\">     ┌───┐     ┌───┐     \n",
              "q_0: ┤ H ├──■──┤ Y ├─────\n",
              "     └───┘┌─┴─┐└───┘┌───┐\n",
              "q_1: ─────┤ X ├──■──┤ Z ├\n",
              "          └───┘┌─┴─┐└───┘\n",
              "q_2: ──────────┤ X ├─────\n",
              "               └───┘     </pre>"
            ],
            "text/plain": [
              "     ┌───┐     ┌───┐     \n",
              "q_0: ┤ H ├──■──┤ Y ├─────\n",
              "     └───┘┌─┴─┐└───┘┌───┐\n",
              "q_1: ─────┤ X ├──■──┤ Z ├\n",
              "          └───┘┌─┴─┐└───┘\n",
              "q_2: ──────────┤ X ├─────\n",
              "               └───┘     "
            ]
          },
          "execution_count": 33,
          "metadata": {},
          "output_type": "execute_result"
        }
      ],
      "source": [
        "#encoding\n",
        "from qiskit.quantum_info.operators import Operator, Pauli\n",
        "\n",
        "circuit.y(0)\n",
        "circuit.z(1)\n",
        "circuit.draw()"
      ]
    },
    {
      "cell_type": "code",
      "execution_count": null,
      "metadata": {
        "colab": {
          "base_uri": "https://localhost:8080/",
          "height": 411
        },
        "id": "eYxtNwN0ObnW",
        "outputId": "b332822e-bb0a-47a9-b42d-c1c006ee0c7e"
      },
      "outputs": [
        {
          "data": {
            "image/png": "[encoded data removed]",
            "text/plain": [
              "<Figure size 504x504 with 2 Axes>"
            ]
          },
          "execution_count": 34,
          "metadata": {},
          "output_type": "execute_result"
        }
      ],
      "source": [
        "statevector2 = qi.Statevector.from_instruction(circuit)\n",
        "statevector2.draw('qsphere')"
      ]
    },
    {
      "cell_type": "code",
      "execution_count": null,
      "metadata": {
        "colab": {
          "base_uri": "https://localhost:8080/"
        },
        "id": "ZdZZE_mHOnEG",
        "outputId": "c2b76279-fd30-4385-e4dd-6b38ede22766"
      },
      "outputs": [
        {
          "name": "stdout",
          "output_type": "stream",
          "text": [
            "     ┌───┐     ┌───┐               ┌───┐\n",
            "q_0: ┤ H ├──■──┤ Y ├────────────■──┤ H ├\n",
            "     └───┘┌─┴─┐└───┘┌───┐     ┌─┴─┐└───┘\n",
            "q_1: ─────┤ X ├──■──┤ Z ├──■──┤ X ├─────\n",
            "          └───┘┌─┴─┐└───┘┌─┴─┐└───┘     \n",
            "q_2: ──────────┤ X ├─────┤ X ├──────────\n",
            "               └───┘     └───┘          \n"
          ]
        }
      ],
      "source": [
        "#decoding\n",
        "circuit.cx(1,2)\n",
        "circuit.cx(0,1)\n",
        "circuit.h(0)\n",
        "print(circuit.draw())"
      ]
    },
    {
      "cell_type": "code",
      "execution_count": null,
      "metadata": {
        "id": "S2TsUTEuPLkH"
      },
      "outputs": [],
      "source": [
        "circuit.measure_all()"
      ]
    },
    {
      "cell_type": "code",
      "execution_count": null,
      "metadata": {
        "colab": {
          "base_uri": "https://localhost:8080/",
          "height": 356
        },
        "id": "WYdnpuKPO_aE",
        "outputId": "7d1ed4f8-d0c6-465b-f13c-707f05efb613"
      },
      "outputs": [
        {
          "name": "stdout",
          "output_type": "stream",
          "text": [
            "{'010': 1024}\n"
          ]
        },
        {
          "data": {
            "image/png": "[encoded data removed]",
            "text/plain": [
              "<Figure size 504x360 with 1 Axes>"
            ]
          },
          "execution_count": 37,
          "metadata": {},
          "output_type": "execute_result"
        }
      ],
      "source": [
        "aer_sim = Aer.get_backend('aer_simulator')\n",
        "qobj = assemble(circuit)\n",
        "result = aer_sim.run(qobj).result()\n",
        "counts = result.get_counts(circuit)\n",
        "print(counts)\n",
        "plot_histogram(counts)"
      ]
    },
    {
      "cell_type": "code",
      "execution_count": null,
      "metadata": {
        "id": "1goUDrT9B9OU"
      },
      "outputs": [],
      "source": []
    },
    {
      "cell_type": "code",
      "execution_count": null,
      "metadata": {
        "id": "lYFTPXlxbkQX"
      },
      "outputs": [],
      "source": []
    },
    {
      "cell_type": "markdown",
      "source": [
        "# Arbirary 2 qubit teleportation using cluster state\n",
        "\n",
        "based on 'Experimental realization of quantum teleportation of an arbitrary two-qubit state using a four-qubit cluster state Rajiuddin Sk1 · Alakesh Baishya2 · Bikash K. Behera1,3 · Prasanta K. Panigrahi1'"
      ],
      "metadata": {
        "id": "t1754Eztnrxp"
      }
    },
    {
      "cell_type": "code",
      "source": [
        "simulator = QasmSimulator()"
      ],
      "metadata": {
        "id": "FjLMSrJvoDEs"
      },
      "execution_count": null,
      "outputs": []
    },
    {
      "cell_type": "code",
      "source": [
        "circuit = QuantumCircuit(6, 2)\n",
        "circuit.draw()"
      ],
      "metadata": {
        "colab": {
          "base_uri": "https://localhost:8080/",
          "height": 279
        },
        "id": "VYeyo2ucohxI",
        "outputId": "878fb3ab-6056-476c-ee12-a1ffa17edf29"
      },
      "execution_count": null,
      "outputs": [
        {
          "output_type": "execute_result",
          "data": {
            "text/plain": [
              "     \n",
              "q_0: \n",
              "     \n",
              "q_1: \n",
              "     \n",
              "q_2: \n",
              "     \n",
              "q_3: \n",
              "     \n",
              "q_4: \n",
              "     \n",
              "q_5: \n",
              "     \n",
              "c_0: \n",
              "     \n",
              "c_1: \n",
              "     "
            ],
            "text/html": [
              "<pre style=\"word-wrap: normal;white-space: pre;background: #fff0;line-height: 1.1;font-family: &quot;Courier New&quot;,Courier,monospace\">     \n",
              "q_0: \n",
              "     \n",
              "q_1: \n",
              "     \n",
              "q_2: \n",
              "     \n",
              "q_3: \n",
              "     \n",
              "q_4: \n",
              "     \n",
              "q_5: \n",
              "     \n",
              "c_0: \n",
              "     \n",
              "c_1: \n",
              "     </pre>"
            ]
          },
          "metadata": {},
          "execution_count": 48
        }
      ]
    },
    {
      "cell_type": "code",
      "source": [
        "circuit.h(0)\n",
        "circuit.cx(0,1) # creating bell state for teleporting\n",
        "circuit.draw()"
      ],
      "metadata": {
        "colab": {
          "base_uri": "https://localhost:8080/",
          "height": 279
        },
        "id": "WNFKwzboo5od",
        "outputId": "78722f9b-4819-4628-88f3-65af0366a66e"
      },
      "execution_count": null,
      "outputs": [
        {
          "output_type": "execute_result",
          "data": {
            "text/plain": [
              "     ┌───┐     \n",
              "q_0: ┤ H ├──■──\n",
              "     └───┘┌─┴─┐\n",
              "q_1: ─────┤ X ├\n",
              "          └───┘\n",
              "q_2: ──────────\n",
              "               \n",
              "q_3: ──────────\n",
              "               \n",
              "q_4: ──────────\n",
              "               \n",
              "q_5: ──────────\n",
              "               \n",
              "c_0: ══════════\n",
              "               \n",
              "c_1: ══════════\n",
              "               "
            ],
            "text/html": [
              "<pre style=\"word-wrap: normal;white-space: pre;background: #fff0;line-height: 1.1;font-family: &quot;Courier New&quot;,Courier,monospace\">     ┌───┐     \n",
              "q_0: ┤ H ├──■──\n",
              "     └───┘┌─┴─┐\n",
              "q_1: ─────┤ X ├\n",
              "          └───┘\n",
              "q_2: ──────────\n",
              "               \n",
              "q_3: ──────────\n",
              "               \n",
              "q_4: ──────────\n",
              "               \n",
              "q_5: ──────────\n",
              "               \n",
              "c_0: ══════════\n",
              "               \n",
              "c_1: ══════════\n",
              "               </pre>"
            ]
          },
          "metadata": {},
          "execution_count": 49
        }
      ]
    },
    {
      "cell_type": "code",
      "source": [
        "circuit.h(2)\n",
        "circuit.h(3)\n",
        "circuit.h(4)\n",
        "circuit.h(5)\n",
        "circuit.barrier()\n",
        "circuit.draw()"
      ],
      "metadata": {
        "colab": {
          "base_uri": "https://localhost:8080/",
          "height": 279
        },
        "id": "219JPvdRpR1j",
        "outputId": "fa9d40b4-18bd-444b-b78a-1734bacd3367"
      },
      "execution_count": null,
      "outputs": [
        {
          "output_type": "execute_result",
          "data": {
            "text/plain": [
              "     ┌───┐      ░ \n",
              "q_0: ┤ H ├──■───░─\n",
              "     └───┘┌─┴─┐ ░ \n",
              "q_1: ─────┤ X ├─░─\n",
              "     ┌───┐└───┘ ░ \n",
              "q_2: ┤ H ├──────░─\n",
              "     ├───┤      ░ \n",
              "q_3: ┤ H ├──────░─\n",
              "     ├───┤      ░ \n",
              "q_4: ┤ H ├──────░─\n",
              "     ├───┤      ░ \n",
              "q_5: ┤ H ├──────░─\n",
              "     └───┘      ░ \n",
              "c_0: ═════════════\n",
              "                  \n",
              "c_1: ═════════════\n",
              "                  "
            ],
            "text/html": [
              "<pre style=\"word-wrap: normal;white-space: pre;background: #fff0;line-height: 1.1;font-family: &quot;Courier New&quot;,Courier,monospace\">     ┌───┐      ░ \n",
              "q_0: ┤ H ├──■───░─\n",
              "     └───┘┌─┴─┐ ░ \n",
              "q_1: ─────┤ X ├─░─\n",
              "     ┌───┐└───┘ ░ \n",
              "q_2: ┤ H ├──────░─\n",
              "     ├───┤      ░ \n",
              "q_3: ┤ H ├──────░─\n",
              "     ├───┤      ░ \n",
              "q_4: ┤ H ├──────░─\n",
              "     ├───┤      ░ \n",
              "q_5: ┤ H ├──────░─\n",
              "     └───┘      ░ \n",
              "c_0: ═════════════\n",
              "                  \n",
              "c_1: ═════════════\n",
              "                  </pre>"
            ]
          },
          "metadata": {},
          "execution_count": 50
        }
      ]
    },
    {
      "cell_type": "code",
      "source": [
        "# creating 4 qubit cluster state\n",
        "circuit.cz(2,3)\n",
        "circuit.h(2)\n",
        "circuit.cz(3,4)\n",
        "circuit.cz(4,5)\n",
        "circuit.h(5)\n",
        "circuit.barrier()\n",
        "circuit.draw()"
      ],
      "metadata": {
        "colab": {
          "base_uri": "https://localhost:8080/",
          "height": 279
        },
        "id": "gllPtmH-pu92",
        "outputId": "b1eaab62-165d-47ed-b6b6-69ef2d54b041"
      },
      "execution_count": null,
      "outputs": [
        {
          "output_type": "execute_result",
          "data": {
            "text/plain": [
              "     ┌───┐      ░                  ░ \n",
              "q_0: ┤ H ├──■───░──────────────────░─\n",
              "     └───┘┌─┴─┐ ░                  ░ \n",
              "q_1: ─────┤ X ├─░──────────────────░─\n",
              "     ┌───┐└───┘ ░    ┌───┐         ░ \n",
              "q_2: ┤ H ├──────░──■─┤ H ├─────────░─\n",
              "     ├───┤      ░  │ └───┘         ░ \n",
              "q_3: ┤ H ├──────░──■───■───────────░─\n",
              "     ├───┤      ░      │           ░ \n",
              "q_4: ┤ H ├──────░──────■───■───────░─\n",
              "     ├───┤      ░          │ ┌───┐ ░ \n",
              "q_5: ┤ H ├──────░──────────■─┤ H ├─░─\n",
              "     └───┘      ░            └───┘ ░ \n",
              "c_0: ════════════════════════════════\n",
              "                                     \n",
              "c_1: ════════════════════════════════\n",
              "                                     "
            ],
            "text/html": [
              "<pre style=\"word-wrap: normal;white-space: pre;background: #fff0;line-height: 1.1;font-family: &quot;Courier New&quot;,Courier,monospace\">     ┌───┐      ░                  ░ \n",
              "q_0: ┤ H ├──■───░──────────────────░─\n",
              "     └───┘┌─┴─┐ ░                  ░ \n",
              "q_1: ─────┤ X ├─░──────────────────░─\n",
              "     ┌───┐└───┘ ░    ┌───┐         ░ \n",
              "q_2: ┤ H ├──────░──■─┤ H ├─────────░─\n",
              "     ├───┤      ░  │ └───┘         ░ \n",
              "q_3: ┤ H ├──────░──■───■───────────░─\n",
              "     ├───┤      ░      │           ░ \n",
              "q_4: ┤ H ├──────░──────■───■───────░─\n",
              "     ├───┤      ░          │ ┌───┐ ░ \n",
              "q_5: ┤ H ├──────░──────────■─┤ H ├─░─\n",
              "     └───┘      ░            └───┘ ░ \n",
              "c_0: ════════════════════════════════\n",
              "                                     \n",
              "c_1: ════════════════════════════════\n",
              "                                     </pre>"
            ]
          },
          "metadata": {},
          "execution_count": 51
        }
      ]
    },
    {
      "cell_type": "code",
      "source": [
        "#combination of CNOT and Hadamard gates is used for Bell-state measurement\n",
        "circuit.cx(0,2)\n",
        "circuit.h(0)\n",
        "circuit.cx(1,3)\n",
        "circuit.h(1)\n",
        "# using two CNOT gates and two controlled-Z gate, Alice informs her measurement results to Bob\n",
        "circuit.cx(2,4)\n",
        "circuit.cz(0,4)\n",
        "circuit.cx(3,5)\n",
        "circuit.cz(1,5)\n",
        "circuit.barrier()\n",
        "circuit.draw()"
      ],
      "metadata": {
        "colab": {
          "base_uri": "https://localhost:8080/",
          "height": 279
        },
        "id": "-KCfiSILq04M",
        "outputId": "7d395c8e-a925-4e66-c6ad-e07836d44025"
      },
      "execution_count": null,
      "outputs": [
        {
          "output_type": "execute_result",
          "data": {
            "text/plain": [
              "     ┌───┐      ░                  ░      ┌───┐                 ░ \n",
              "q_0: ┤ H ├──■───░──────────────────░───■──┤ H ├───────────■─────░─\n",
              "     └───┘┌─┴─┐ ░                  ░   │  └───┘┌───┐      │     ░ \n",
              "q_1: ─────┤ X ├─░──────────────────░───┼────■──┤ H ├──────┼──■──░─\n",
              "     ┌───┐└───┘ ░    ┌───┐         ░ ┌─┴─┐  │  └───┘      │  │  ░ \n",
              "q_2: ┤ H ├──────░──■─┤ H ├─────────░─┤ X ├──┼────■────────┼──┼──░─\n",
              "     ├───┤      ░  │ └───┘         ░ └───┘┌─┴─┐  │        │  │  ░ \n",
              "q_3: ┤ H ├──────░──■───■───────────░──────┤ X ├──┼────■───┼──┼──░─\n",
              "     ├───┤      ░      │           ░      └───┘┌─┴─┐  │   │  │  ░ \n",
              "q_4: ┤ H ├──────░──────■───■───────░───────────┤ X ├──┼───■──┼──░─\n",
              "     ├───┤      ░          │ ┌───┐ ░           └───┘┌─┴─┐    │  ░ \n",
              "q_5: ┤ H ├──────░──────────■─┤ H ├─░────────────────┤ X ├────■──░─\n",
              "     └───┘      ░            └───┘ ░                └───┘       ░ \n",
              "c_0: ═════════════════════════════════════════════════════════════\n",
              "                                                                  \n",
              "c_1: ═════════════════════════════════════════════════════════════\n",
              "                                                                  "
            ],
            "text/html": [
              "<pre style=\"word-wrap: normal;white-space: pre;background: #fff0;line-height: 1.1;font-family: &quot;Courier New&quot;,Courier,monospace\">     ┌───┐      ░                  ░      ┌───┐                 ░ \n",
              "q_0: ┤ H ├──■───░──────────────────░───■──┤ H ├───────────■─────░─\n",
              "     └───┘┌─┴─┐ ░                  ░   │  └───┘┌───┐      │     ░ \n",
              "q_1: ─────┤ X ├─░──────────────────░───┼────■──┤ H ├──────┼──■──░─\n",
              "     ┌───┐└───┘ ░    ┌───┐         ░ ┌─┴─┐  │  └───┘      │  │  ░ \n",
              "q_2: ┤ H ├──────░──■─┤ H ├─────────░─┤ X ├──┼────■────────┼──┼──░─\n",
              "     ├───┤      ░  │ └───┘         ░ └───┘┌─┴─┐  │        │  │  ░ \n",
              "q_3: ┤ H ├──────░──■───■───────────░──────┤ X ├──┼────■───┼──┼──░─\n",
              "     ├───┤      ░      │           ░      └───┘┌─┴─┐  │   │  │  ░ \n",
              "q_4: ┤ H ├──────░──────■───■───────░───────────┤ X ├──┼───■──┼──░─\n",
              "     ├───┤      ░          │ ┌───┐ ░           └───┘┌─┴─┐    │  ░ \n",
              "q_5: ┤ H ├──────░──────────■─┤ H ├─░────────────────┤ X ├────■──░─\n",
              "     └───┘      ░            └───┘ ░                └───┘       ░ \n",
              "c_0: ═════════════════════════════════════════════════════════════\n",
              "                                                                  \n",
              "c_1: ═════════════════════════════════════════════════════════════\n",
              "                                                                  </pre>"
            ]
          },
          "metadata": {},
          "execution_count": 52
        }
      ]
    },
    {
      "cell_type": "code",
      "source": [
        "circuit.measure(4,0)\n",
        "circuit.measure(5,1)\n",
        "circuit.draw()"
      ],
      "metadata": {
        "colab": {
          "base_uri": "https://localhost:8080/",
          "height": 279
        },
        "id": "UNDTSTo9sG-E",
        "outputId": "c154928c-73b4-49dd-8f43-4ed2d7c50243"
      },
      "execution_count": null,
      "outputs": [
        {
          "output_type": "execute_result",
          "data": {
            "text/plain": [
              "     ┌───┐      ░                  ░      ┌───┐                 ░       \n",
              "q_0: ┤ H ├──■───░──────────────────░───■──┤ H ├───────────■─────░───────\n",
              "     └───┘┌─┴─┐ ░                  ░   │  └───┘┌───┐      │     ░       \n",
              "q_1: ─────┤ X ├─░──────────────────░───┼────■──┤ H ├──────┼──■──░───────\n",
              "     ┌───┐└───┘ ░    ┌───┐         ░ ┌─┴─┐  │  └───┘      │  │  ░       \n",
              "q_2: ┤ H ├──────░──■─┤ H ├─────────░─┤ X ├──┼────■────────┼──┼──░───────\n",
              "     ├───┤      ░  │ └───┘         ░ └───┘┌─┴─┐  │        │  │  ░       \n",
              "q_3: ┤ H ├──────░──■───■───────────░──────┤ X ├──┼────■───┼──┼──░───────\n",
              "     ├───┤      ░      │           ░      └───┘┌─┴─┐  │   │  │  ░ ┌─┐   \n",
              "q_4: ┤ H ├──────░──────■───■───────░───────────┤ X ├──┼───■──┼──░─┤M├───\n",
              "     ├───┤      ░          │ ┌───┐ ░           └───┘┌─┴─┐    │  ░ └╥┘┌─┐\n",
              "q_5: ┤ H ├──────░──────────■─┤ H ├─░────────────────┤ X ├────■──░──╫─┤M├\n",
              "     └───┘      ░            └───┘ ░                └───┘       ░  ║ └╥┘\n",
              "c_0: ══════════════════════════════════════════════════════════════╩══╬═\n",
              "                                                                      ║ \n",
              "c_1: ═════════════════════════════════════════════════════════════════╩═\n",
              "                                                                        "
            ],
            "text/html": [
              "<pre style=\"word-wrap: normal;white-space: pre;background: #fff0;line-height: 1.1;font-family: &quot;Courier New&quot;,Courier,monospace\">     ┌───┐      ░                  ░      ┌───┐                 ░       \n",
              "q_0: ┤ H ├──■───░──────────────────░───■──┤ H ├───────────■─────░───────\n",
              "     └───┘┌─┴─┐ ░                  ░   │  └───┘┌───┐      │     ░       \n",
              "q_1: ─────┤ X ├─░──────────────────░───┼────■──┤ H ├──────┼──■──░───────\n",
              "     ┌───┐└───┘ ░    ┌───┐         ░ ┌─┴─┐  │  └───┘      │  │  ░       \n",
              "q_2: ┤ H ├──────░──■─┤ H ├─────────░─┤ X ├──┼────■────────┼──┼──░───────\n",
              "     ├───┤      ░  │ └───┘         ░ └───┘┌─┴─┐  │        │  │  ░       \n",
              "q_3: ┤ H ├──────░──■───■───────────░──────┤ X ├──┼────■───┼──┼──░───────\n",
              "     ├───┤      ░      │           ░      └───┘┌─┴─┐  │   │  │  ░ ┌─┐   \n",
              "q_4: ┤ H ├──────░──────■───■───────░───────────┤ X ├──┼───■──┼──░─┤M├───\n",
              "     ├───┤      ░          │ ┌───┐ ░           └───┘┌─┴─┐    │  ░ └╥┘┌─┐\n",
              "q_5: ┤ H ├──────░──────────■─┤ H ├─░────────────────┤ X ├────■──░──╫─┤M├\n",
              "     └───┘      ░            └───┘ ░                └───┘       ░  ║ └╥┘\n",
              "c_0: ══════════════════════════════════════════════════════════════╩══╬═\n",
              "                                                                      ║ \n",
              "c_1: ═════════════════════════════════════════════════════════════════╩═\n",
              "                                                                        </pre>"
            ]
          },
          "metadata": {},
          "execution_count": 53
        }
      ]
    },
    {
      "cell_type": "code",
      "source": [
        "compiled_circuit = transpile(circuit, simulator)\n",
        "simulation = simulator.run(compiled_circuit, shots=1000)\n",
        "result = simulation.result()\n",
        "counts = result.get_counts(compiled_circuit)\n",
        "print(counts)"
      ],
      "metadata": {
        "colab": {
          "base_uri": "https://localhost:8080/"
        },
        "id": "OSy0Dkm3sv_c",
        "outputId": "3695669e-5836-4d52-ecce-2f14014194f3"
      },
      "execution_count": null,
      "outputs": [
        {
          "output_type": "stream",
          "name": "stdout",
          "text": [
            "{'11': 467, '00': 533}\n"
          ]
        }
      ]
    },
    {
      "cell_type": "code",
      "source": [
        "plot_histogram(counts)"
      ],
      "metadata": {
        "colab": {
          "base_uri": "https://localhost:8080/",
          "height": 331
        },
        "id": "e5i5XyVhsvyR",
        "outputId": "17f498fb-3fe5-45a7-dd8c-affb4d864002"
      },
      "execution_count": null,
      "outputs": [
        {
          "output_type": "execute_result",
          "data": {
            "text/plain": [
              "<Figure size 504x360 with 1 Axes>"
            ],
            "image/png": "[encoded data removed]"
          },
          "metadata": {},
          "execution_count": 55
        }
      ]
    },
    {
      "cell_type": "code",
      "source": [],
      "metadata": {
        "id": "DqJVE19YsvRs"
      },
      "execution_count": null,
      "outputs": []
    },
    {
      "cell_type": "code",
      "source": [],
      "metadata": {
        "id": "uD0W8Gl5rmvq"
      },
      "execution_count": null,
      "outputs": []
    },
    {
      "cell_type": "markdown",
      "metadata": {
        "id": "YOsScradbyl6"
      },
      "source": [
        "\n",
        "# **Density matrix**\n",
        "based on 'Experimental realization of quantum teleportation of an\n",
        "arbitrary two-qubit state using a four-qubit cluster state\n",
        "Rajiuddin Sk1 · Alakesh Baishya2 · Bikash K. Behera1,3 ·\n",
        "Prasanta K. Panigrahi1'"
      ]
    },
    {
      "cell_type": "code",
      "execution_count": null,
      "metadata": {
        "colab": {
          "base_uri": "https://localhost:8080/",
          "height": 94
        },
        "id": "dvRULHWFb397",
        "outputId": "abf9ae1b-0ec8-4bc0-f9bc-3c4c8dd8e00e"
      },
      "outputs": [
        {
          "data": {
            "text/html": [
              "<pre style=\"word-wrap: normal;white-space: pre;background: #fff0;line-height: 1.1;font-family: &quot;Courier New&quot;,Courier,monospace\">     ┌───┐     \n",
              "q_0: ┤ H ├──■──\n",
              "     └───┘┌─┴─┐\n",
              "q_1: ─────┤ X ├\n",
              "          └───┘</pre>"
            ],
            "text/plain": [
              "     ┌───┐     \n",
              "q_0: ┤ H ├──■──\n",
              "     └───┘┌─┴─┐\n",
              "q_1: ─────┤ X ├\n",
              "          └───┘"
            ]
          },
          "execution_count": 4,
          "metadata": {},
          "output_type": "execute_result"
        }
      ],
      "source": [
        "qc_AB = QuantumCircuit(2)\n",
        "qc_AB.h(0)\n",
        "qc_AB.cx(0,1)\n",
        "qc_AB.draw()"
      ]
    },
    {
      "cell_type": "code",
      "execution_count": null,
      "metadata": {
        "colab": {
          "base_uri": "https://localhost:8080/",
          "height": 58
        },
        "id": "fH6h7diSuQUj",
        "outputId": "58c440a5-8305-410b-cc50-cbb107630c09"
      },
      "outputs": [
        {
          "name": "stdout",
          "output_type": "stream",
          "text": [
            "[0.70710678+0.j,0.        +0.j,0.        +0.j,0.70710678+0.j]\n"
          ]
        },
        {
          "data": {
            "text/latex": "$$\\frac{\\sqrt{2}}{2} |00\\rangle+\\frac{\\sqrt{2}}{2} |11\\rangle$$",
            "text/plain": [
              "<IPython.core.display.Latex object>"
            ]
          },
          "execution_count": 5,
          "metadata": {},
          "output_type": "execute_result"
        }
      ],
      "source": [
        "psi_AB = qi.Statevector.from_instruction(qc_AB)\n",
        "print(psi_AB.draw('text'))\n",
        "psi_AB.draw('latex')"
      ]
    },
    {
      "cell_type": "code",
      "execution_count": null,
      "metadata": {
        "colab": {
          "base_uri": "https://localhost:8080/",
          "height": 98
        },
        "id": "TPK6aleXu2F6",
        "outputId": "7197deba-8a60-4070-b237-5851aee9a20b"
      },
      "outputs": [
        {
          "data": {
            "text/latex": "$$\n\\rho_{AB} = \n\\begin{bmatrix}\n\\tfrac{1}{2} & 0 & 0 & \\tfrac{1}{2}  \\\\\n 0 & 0 & 0 & 0  \\\\\n 0 & 0 & 0 & 0  \\\\\n \\tfrac{1}{2} & 0 & 0 & \\tfrac{1}{2}  \\\\\n \\end{bmatrix}\n$$",
            "text/plain": [
              "<IPython.core.display.Latex object>"
            ]
          },
          "execution_count": 6,
          "metadata": {},
          "output_type": "execute_result"
        }
      ],
      "source": [
        "rho_AB = qi.DensityMatrix.from_instruction(qc_AB)\n",
        "rho_AB.draw('latex', prefix='\\\\rho_{AB} = ')"
      ]
    },
    {
      "cell_type": "code",
      "execution_count": null,
      "metadata": {
        "colab": {
          "base_uri": "https://localhost:8080/"
        },
        "id": "rsKRI7OKUC48",
        "outputId": "808effca-be83-4274-fe15-79e4ac452f5a"
      },
      "outputs": [
        {
          "data": {
            "text/plain": [
              "qiskit.quantum_info.states.densitymatrix.DensityMatrix"
            ]
          },
          "execution_count": 8,
          "metadata": {},
          "output_type": "execute_result"
        }
      ],
      "source": [
        "type(rho_AB)"
      ]
    },
    {
      "cell_type": "code",
      "execution_count": null,
      "metadata": {
        "colab": {
          "base_uri": "https://localhost:8080/",
          "height": 303
        },
        "id": "zwVVsVLD58dI",
        "outputId": "e2055e53-4cff-4720-c316-932ba1c73844"
      },
      "outputs": [
        {
          "data": {
            "image/png": "[encoded data removed]",
            "text/plain": [
              "<Figure size 1080x360 with 2 Axes>"
            ]
          },
          "execution_count": 240,
          "metadata": {},
          "output_type": "execute_result"
        }
      ],
      "source": [
        "rho_AB.draw('city',alpha = 0.6,color=['blue', 'crimson'])"
      ]
    },
    {
      "cell_type": "code",
      "execution_count": null,
      "metadata": {
        "id": "5hGDH0Ji7762"
      },
      "outputs": [],
      "source": []
    },
    {
      "cell_type": "markdown",
      "metadata": {
        "id": "68nufHnsPq7t"
      },
      "source": [
        "# **Experimental density matrix**\n",
        "\n",
        "based on 'Experimental realization of quantum teleportation of an arbitrary two-qubit state using a four-qubit cluster state Rajiuddin Sk1 · Alakesh Baishya2 · Bikash K. Behera1,3 · Prasanta K. Panigrahi1'"
      ]
    },
    {
      "cell_type": "code",
      "execution_count": null,
      "metadata": {
        "id": "vCDnX4UPPpCN"
      },
      "outputs": [],
      "source": [
        "import numpy as np\n",
        "import sympy as smp\n",
        "from sympy.core.trace import Tr\n",
        "from sympy import Matrix\n",
        "from sympy.physics.quantum import TensorProduct"
      ]
    },
    {
      "cell_type": "code",
      "execution_count": null,
      "metadata": {
        "colab": {
          "base_uri": "https://localhost:8080/"
        },
        "id": "uLW_3A4lUB0e",
        "outputId": "38a073b2-e122-4eda-8520-7e94528b4702"
      },
      "outputs": [
        {
          "name": "stdout",
          "output_type": "stream",
          "text": [
            "enter the number of raw 2\n",
            "enter the number of col 2\n",
            "1\n",
            "0\n",
            "0\n",
            "1\n",
            "Matrix([[1.00000000000000, 0], [0, 1.00000000000000]])\n",
            "enter the number of raw 2\n",
            "enter the number of col 2\n",
            "0\n",
            "1\n",
            "1\n",
            "0\n",
            "Matrix([[0, 1.00000000000000], [1.00000000000000, 0]])\n",
            "enter the number of raw 2\n",
            "enter the number of col 2\n",
            "0\n",
            "j\n",
            "-j\n",
            "0\n",
            "Matrix([[0, 1.0*I], [-1.0*I, 0]])\n",
            "enter the number of raw 2\n",
            "enter the number of col 2\n",
            "1\n",
            "0\n",
            "0\n",
            "-1\n",
            "Matrix([[1.00000000000000, 0], [0, -1.00000000000000]])\n"
          ]
        }
      ],
      "source": [
        "m1 = int(input('enter the number of raw '))\n",
        "n1 = int(input('enter the number of col '))\n",
        "\n",
        "I = Matrix([[complex(input()) for i in range (n1)] for k in range (m1)])\n",
        "print(I)\n",
        "\n",
        "m2 = int(input('enter the number of raw '))\n",
        "n2 = int(input('enter the number of col '))\n",
        "\n",
        "S_X = Matrix([[complex(input()) for i in range (n2)] for k in range (m2)])\n",
        "print(S_X)\n",
        "\n",
        "m3 = int(input('enter the number of raw '))\n",
        "n3 = int(input('enter the number of col '))\n",
        "\n",
        "S_Y = Matrix([[complex(input()) for i in range (n3)] for k in range (m3)])\n",
        "print(S_Y)\n",
        "\n",
        "m4 = int(input('enter the number of raw '))\n",
        "n4 = int(input('enter the number of col '))\n",
        "\n",
        "S_Z = Matrix([[complex(input()) for i in range (n4)] for k in range (m4)])\n",
        "print(S_Z)"
      ]
    },
    {
      "cell_type": "code",
      "execution_count": null,
      "metadata": {
        "colab": {
          "background_save": true,
          "base_uri": "https://localhost:8080/",
          "height": 287
        },
        "id": "xuMeFi7EcESh",
        "outputId": "35429013-c96e-4604-deb4-d5bdc8cc0e10"
      },
      "outputs": [
        {
          "name": "stdout",
          "output_type": "stream",
          "text": [
            "Matrix([[1.00000000000000, 0], [0, 1.00000000000000]])\n",
            "Matrix([[0, 1.00000000000000], [1.00000000000000, 0]])\n",
            "Matrix([[0, 1.0*I], [-1.0*I, 0]])\n",
            "Matrix([[1.00000000000000, 0], [0, -1.00000000000000]])\n"
          ]
        }
      ],
      "source": [
        "print(I)\n",
        "print(S_X)\n",
        "print(S_Y)\n",
        "print(S_Z)"
      ]
    },
    {
      "cell_type": "code",
      "execution_count": null,
      "metadata": {
        "colab": {
          "base_uri": "https://localhost:8080/",
          "height": 98
        },
        "id": "UyIOXBZvc2_N",
        "outputId": "c9151b59-008e-48b5-aae4-076cc541eb49"
      },
      "outputs": [
        {
          "data": {
            "text/latex": "$\\displaystyle \\left[\\begin{matrix}0.33 & 0.065 - 0.065 i & 0.08 - 0.08 i & - 0.13 i\\\\0.065 + 0.065 i & 0.2 & 0.13 & -0.05 + 0.05 i\\\\0.08 + 0.08 i & 0.13 & 0.17 & -0.065 + 0.065 i\\\\0.13 i & -0.05 - 0.05 i & -0.065 - 0.065 i & 0.3\\end{matrix}\\right]$",
            "text/plain": [
              "Matrix([\n",
              "[           0.33, 0.065 - 0.065*I,    0.08 - 0.08*I,          -0.13*I],\n",
              "[0.065 + 0.065*I,             0.2,             0.13,   -0.05 + 0.05*I],\n",
              "[  0.08 + 0.08*I,            0.13,             0.17, -0.065 + 0.065*I],\n",
              "[         0.13*I,  -0.05 - 0.05*I, -0.065 - 0.065*I,              0.3]])"
            ]
          },
          "execution_count": 14,
          "metadata": {},
          "output_type": "execute_result"
        }
      ],
      "source": [
        "T_II = 1\n",
        "T_IX = T_IY = T_IZ = 0\n",
        "T_XI = T_YI = T_ZI = 0.06\n",
        "T_XX = T_YY = T_ZZ = T_XY = T_YX = T_XZ = T_ZX = T_YZ =T_ZY = 0.26\n",
        "\n",
        "pE = 1/4*(T_II*(TensorProduct(I,I)) + T_IX*(TensorProduct(I,S_X) ) + T_IY*(TensorProduct(I,S_Y)) + T_IZ*(TensorProduct(I,S_Z))\n",
        "+ T_XI*(TensorProduct(S_X,I)) + T_XX*(TensorProduct(S_X,S_X)) + T_XY*(TensorProduct(S_X,S_Y)) + T_XZ*(TensorProduct(S_X,S_Z))\n",
        "+ T_YI*(TensorProduct(S_Y,I)) + T_YX*(TensorProduct(S_Y,S_X)) + T_YY*(TensorProduct(S_Y,S_Y)) + T_YZ*(TensorProduct(S_Y,S_Z))\n",
        "+ T_ZI*(TensorProduct(S_Z,I)) + T_ZX*(TensorProduct(S_Z,S_X)) + T_ZY*(TensorProduct(S_Z,S_Y)) + T_ZZ*(TensorProduct(S_Z,S_Z)) )\n",
        "\n",
        "pE"
      ]
    },
    {
      "cell_type": "code",
      "execution_count": null,
      "metadata": {
        "colab": {
          "base_uri": "https://localhost:8080/"
        },
        "id": "Sv0VQQtaUJpH",
        "outputId": "a0e6eed0-9af6-458e-b126-76611c0b509a"
      },
      "outputs": [
        {
          "data": {
            "text/plain": [
              "sympy.matrices.dense.MutableDenseMatrix"
            ]
          },
          "execution_count": 15,
          "metadata": {},
          "output_type": "execute_result"
        }
      ],
      "source": [
        "type(pE)h"
      ]
    },
    {
      "cell_type": "code",
      "execution_count": null,
      "metadata": {
        "id": "eTPyVW6eA87o"
      },
      "outputs": [],
      "source": [
        "from os import MFD_HUGE_64KB\n",
        "m5 = int(input('enter the number of raw '))\n",
        "n5 = int(input('enter the number of col '))\n",
        "\n",
        "real = Matrix([[complex(input()) for i in range (n5)] for k in range (m5)])"
      ]
    },
    {
      "cell_type": "code",
      "execution_count": null,
      "metadata": {
        "id": "wd2FGdLnGWvx"
      },
      "outputs": [],
      "source": [
        "m6 = int(input('enter the number of raw '))\n",
        "n6 = int(input('enter the number of col '))\n",
        "\n",
        "imaginary = Matrix([[complex(input()) for i in range (n6)] for k in range (m6)])\n",
        "\n",
        "imaginary"
      ]
    },
    {
      "cell_type": "code",
      "execution_count": null,
      "metadata": {
        "colab": {
          "base_uri": "https://localhost:8080/",
          "height": 98
        },
        "id": "qJjvpRSAHh28",
        "outputId": "496ff4a9-676d-4ca0-8829-759c14cb818e"
      },
      "outputs": [
        {
          "data": {
            "text/latex": "$\\displaystyle \\left[\\begin{matrix}0.33 & 0.065 & 0.08 & 0\\\\0.065 & 0.2 & 0.13 & -0.05\\\\0.08 & 0.13 & 0.17 & -0.065\\\\0 & -0.05 & -0.065 & 0.3\\end{matrix}\\right]$",
            "text/plain": [
              "Matrix([\n",
              "[ 0.33, 0.065,   0.08,      0],\n",
              "[0.065,   0.2,   0.13,  -0.05],\n",
              "[ 0.08,  0.13,   0.17, -0.065],\n",
              "[    0, -0.05, -0.065,    0.3]])"
            ]
          },
          "execution_count": 234,
          "metadata": {},
          "output_type": "execute_result"
        }
      ],
      "source": [
        "real"
      ]
    },
    {
      "cell_type": "code",
      "execution_count": null,
      "metadata": {
        "colab": {
          "base_uri": "https://localhost:8080/",
          "height": 98
        },
        "id": "oQ2s1t1BHZtd",
        "outputId": "d41c2fe1-8268-497f-fa11-2d562ffad317"
      },
      "outputs": [
        {
          "data": {
            "text/latex": "$\\displaystyle \\left[\\begin{matrix}0 & - 0.065 i & - 0.08 i & - 0.13 i\\\\0.065 i & 0 & 0 & 0.05 i\\\\0.08 i & 0 & 0 & 0.065 i\\\\0.13 i & - 0.05 i & - 0.065 i & 0\\end{matrix}\\right]$",
            "text/plain": [
              "Matrix([\n",
              "[      0, -0.065*I,  -0.08*I, -0.13*I],\n",
              "[0.065*I,        0,        0,  0.05*I],\n",
              "[ 0.08*I,        0,        0, 0.065*I],\n",
              "[ 0.13*I,  -0.05*I, -0.065*I,       0]])"
            ]
          },
          "execution_count": 235,
          "metadata": {},
          "output_type": "execute_result"
        }
      ],
      "source": [
        "imaginary"
      ]
    },
    {
      "cell_type": "code",
      "execution_count": null,
      "metadata": {
        "colab": {
          "base_uri": "https://localhost:8080/",
          "height": 122
        },
        "id": "FPQL5HDUHzZt",
        "outputId": "b28f304e-49ac-400b-ad2a-f3c79d994eb9"
      },
      "outputs": [
        {
          "name": "stdout",
          "output_type": "stream",
          "text": [
            "fedility = 0.793725393319377\n"
          ]
        },
        {
          "data": {
            "text/latex": "$\\displaystyle \\left(\\left[\\begin{matrix}0.315 & 0 & 0 & 0.315\\\\0 & 0 & 0 & 0\\\\0 & 0 & 0 & 0\\\\0.315 & 0 & 0 & 0.315\\end{matrix}\\right]\\right)^{\\frac{1}{2}}$",
            "text/plain": [
              "Matrix([\n",
              "[0.315, 0, 0, 0.315],\n",
              "[    0, 0, 0,     0],\n",
              "[    0, 0, 0,     0],\n",
              "[0.315, 0, 0, 0.315]])**(1/2)"
            ]
          },
          "execution_count": 40,
          "metadata": {},
          "output_type": "execute_result"
        }
      ],
      "source": [
        "a = np.sqrt(rho_AB)\n",
        "b = a*pE*a\n",
        "c = smp.sqrt(b)\n",
        "print(\"fedility =\",np.trace(c))\n",
        "c"
      ]
    }
  ],
  "metadata": {
    "colab": {
      "collapsed_sections": [
        "BI11UFHrbEDb",
        "oMz63_roClJl",
        "PmJvStYrZCrd",
        "Emzw74Jq5s-S",
        "j6HJ1NYgLOzo",
        "t1754Eztnrxp",
        "YOsScradbyl6"
      ],
      "provenance": [],
      "authorship_tag": "ABX9TyMIIacbo8CMF4HM14EjqhUb",
      "include_colab_link": true
    },
    "kernelspec": {
      "display_name": "Python 3",
      "name": "python3"
    },
    "language_info": {
      "name": "python"
    }
  },
  "nbformat": 4,
  "nbformat_minor": 0
}